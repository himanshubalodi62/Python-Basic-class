{
 "cells": [
  {
   "cell_type": "code",
   "execution_count": 7,
   "metadata": {},
   "outputs": [],
   "source": [
    "import logging\n",
    "logging.basicConfig(filename=\"test1.log\",level = logging.INFO)\n",
    "logging.info(\"this is my very first code with logging\")\n",
    "logging.warning(\"this is try to log a warning message\")\n",
    "logging.error(\"this is error message from system\")\n",
    "l = [1,2,3,4,5,5,6,6,7]\n",
    "for i in l:\n",
    "    if i == 2:\n",
    "        logging.info(l)\n",
    "        logging.warning(\"this is warning for a user that they have found out 2 in a list\")\n",
    "        \n",
    "logging.shutdown()"
   ]
  },
  {
   "cell_type": "code",
   "execution_count": 8,
   "metadata": {},
   "outputs": [],
   "source": [
    "import logging\n",
    "logging.basicConfig(filename=\"test2.log\",level=logging.DEBUG,format='%(asctime)s %(message)s')\n",
    "logging.info(\"this is my log with timestamp\")"
   ]
  },
  {
   "cell_type": "code",
   "execution_count": null,
   "metadata": {},
   "outputs": [],
   "source": []
  }
 ],
 "metadata": {
  "kernelspec": {
   "display_name": "Python 3",
   "language": "python",
   "name": "python3"
  },
  "language_info": {
   "codemirror_mode": {
    "name": "ipython",
    "version": 3
   },
   "file_extension": ".py",
   "mimetype": "text/x-python",
   "name": "python",
   "nbconvert_exporter": "python",
   "pygments_lexer": "ipython3",
   "version": "3.8.5"
  }
 },
 "nbformat": 4,
 "nbformat_minor": 4
}
